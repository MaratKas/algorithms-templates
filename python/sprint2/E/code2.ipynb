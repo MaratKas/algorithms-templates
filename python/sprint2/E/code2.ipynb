{
 "cells": [
  {
   "cell_type": "markdown",
   "metadata": {},
   "source": [
    "Стек - Max\n",
    "Нужно реализовать класс StackMax, который поддерживает операцию определения максимума среди всех элементов в стеке. Класс должен поддерживать операции push(x), где x – целое число, pop() и get_max()."
   ]
  },
  {
   "cell_type": "code",
   "execution_count": 2,
   "metadata": {},
   "outputs": [],
   "source": [
    "from typing import List\n",
    "\n",
    "LOCAL = True\n",
    "\n",
    "if LOCAL:\n",
    "    class Stack:\n",
    "        def __init__(self):\n",
    "            self.items = []\n",
    "\n",
    "        def push(self, item):\n",
    "            self.items.append(item)\n",
    "\n",
    "        def pop(self):\n",
    "            return self.items.pop()\n",
    "\n",
    "        def peek(self):\n",
    "            return self.items[-1]\n",
    "\n",
    "        def size(self):\n",
    "            return len(self.items)"
   ]
  },
  {
   "cell_type": "code",
   "execution_count": 1,
   "metadata": {},
   "outputs": [],
   "source": [
    "def solution(comnd):\n",
    "    print(comnd)\n",
    "    while True:  \n",
    "        if not comnd.peek():\n",
    "            break\n",
    "    pass"
   ]
  },
  {
   "cell_type": "code",
   "execution_count": null,
   "metadata": {},
   "outputs": [],
   "source": [
    "def read_input() -> List[int]:\n",
    "    comnd = Stack\n",
    "    n = int(input())\n",
    "    for i in range(n):\n",
    "        # print(input().strip().split())\n",
    "        # print(list(map(str, input().strip().split())))\n",
    "        comnd.push(comnd, input().strip().split())\n",
    "    return comnd"
   ]
  },
  {
   "cell_type": "code",
   "execution_count": null,
   "metadata": {},
   "outputs": [],
   "source": [
    "    comnd = read_input()\n",
    "    solution(comnd)"
   ]
  }
 ],
 "metadata": {
  "kernelspec": {
   "display_name": "Python 3.8.10 ('venv': venv)",
   "language": "python",
   "name": "python3"
  },
  "language_info": {
   "codemirror_mode": {
    "name": "ipython",
    "version": 3
   },
   "file_extension": ".py",
   "mimetype": "text/x-python",
   "name": "python",
   "nbconvert_exporter": "python",
   "pygments_lexer": "ipython3",
   "version": "3.8.10"
  },
  "orig_nbformat": 4,
  "vscode": {
   "interpreter": {
    "hash": "e99538397a97e9d1809b6176ffadb285227aa443440c8ade700b159253b3e053"
   }
  }
 },
 "nbformat": 4,
 "nbformat_minor": 2
}
